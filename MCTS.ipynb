{
  "nbformat": 4,
  "nbformat_minor": 0,
  "metadata": {
    "colab": {
      "provenance": []
    },
    "kernelspec": {
      "name": "python3",
      "display_name": "Python 3"
    },
    "language_info": {
      "name": "python"
    }
  },
  "cells": [
    {
      "cell_type": "code",
      "source": [
        "!pip install swig\n",
        "!pip install gym[box2d]"
      ],
      "metadata": {
        "id": "gSt8vJZfcTMR",
        "colab": {
          "base_uri": "https://localhost:8080/"
        },
        "outputId": "94a31213-1e7a-4b9d-f7d4-4d669f662287"
      },
      "execution_count": null,
      "outputs": [
        {
          "output_type": "stream",
          "name": "stderr",
          "text": [
            "/usr/local/lib/python3.10/dist-packages/ipykernel/ipkernel.py:283: DeprecationWarning: `should_run_async` will not call `transform_cell` automatically in the future. Please pass the result to `transformed_cell` argument and any exception that happen during thetransform in `preprocessing_exc_tuple` in IPython 7.17 and above.\n",
            "  and should_run_async(code)\n"
          ]
        },
        {
          "output_type": "stream",
          "name": "stdout",
          "text": [
            "Collecting swig\n",
            "  Downloading swig-4.1.1-py2.py3-none-manylinux_2_5_x86_64.manylinux1_x86_64.whl (1.8 MB)\n",
            "\u001b[2K     \u001b[90m━━━━━━━━━━━━━━━━━━━━━━━━━━━━━━━━━━━━━━━━\u001b[0m \u001b[32m1.8/1.8 MB\u001b[0m \u001b[31m20.6 MB/s\u001b[0m eta \u001b[36m0:00:00\u001b[0m\n",
            "\u001b[?25hInstalling collected packages: swig\n",
            "Successfully installed swig-4.1.1\n",
            "Requirement already satisfied: gym[box2d] in /usr/local/lib/python3.10/dist-packages (0.25.2)\n",
            "Requirement already satisfied: numpy>=1.18.0 in /usr/local/lib/python3.10/dist-packages (from gym[box2d]) (1.22.4)\n",
            "Requirement already satisfied: cloudpickle>=1.2.0 in /usr/local/lib/python3.10/dist-packages (from gym[box2d]) (2.2.1)\n",
            "Requirement already satisfied: gym-notices>=0.0.4 in /usr/local/lib/python3.10/dist-packages (from gym[box2d]) (0.0.8)\n",
            "Collecting box2d-py==2.3.5 (from gym[box2d])\n",
            "  Downloading box2d-py-2.3.5.tar.gz (374 kB)\n",
            "\u001b[2K     \u001b[90m━━━━━━━━━━━━━━━━━━━━━━━━━━━━━━━━━━━━━━━\u001b[0m \u001b[32m374.4/374.4 kB\u001b[0m \u001b[31m7.1 MB/s\u001b[0m eta \u001b[36m0:00:00\u001b[0m\n",
            "\u001b[?25h  Preparing metadata (setup.py) ... \u001b[?25l\u001b[?25hdone\n",
            "Collecting pygame==2.1.0 (from gym[box2d])\n",
            "  Downloading pygame-2.1.0-cp310-cp310-manylinux_2_17_x86_64.manylinux2014_x86_64.whl (18.3 MB)\n",
            "\u001b[2K     \u001b[90m━━━━━━━━━━━━━━━━━━━━━━━━━━━━━━━━━━━━━━━━\u001b[0m \u001b[32m18.3/18.3 MB\u001b[0m \u001b[31m54.4 MB/s\u001b[0m eta \u001b[36m0:00:00\u001b[0m\n",
            "\u001b[?25hRequirement already satisfied: swig==4.* in /usr/local/lib/python3.10/dist-packages (from gym[box2d]) (4.1.1)\n",
            "Building wheels for collected packages: box2d-py\n",
            "  Building wheel for box2d-py (setup.py) ... \u001b[?25l\u001b[?25hdone\n",
            "  Created wheel for box2d-py: filename=box2d_py-2.3.5-cp310-cp310-linux_x86_64.whl size=2812084 sha256=7ac925bcba36045eecb743c6a53e304b725efcaa8585077ea175407cf11a96d7\n",
            "  Stored in directory: /root/.cache/pip/wheels/db/8f/6a/eaaadf056fba10a98d986f6dce954e6201ba3126926fc5ad9e\n",
            "Successfully built box2d-py\n",
            "Installing collected packages: box2d-py, pygame\n",
            "  Attempting uninstall: pygame\n",
            "    Found existing installation: pygame 2.5.0\n",
            "    Uninstalling pygame-2.5.0:\n",
            "      Successfully uninstalled pygame-2.5.0\n",
            "Successfully installed box2d-py-2.3.5 pygame-2.1.0\n"
          ]
        }
      ]
    },
    {
      "cell_type": "code",
      "execution_count": 33,
      "metadata": {
        "id": "Pl2Ia7WVRqh9",
        "colab": {
          "base_uri": "https://localhost:8080/"
        },
        "outputId": "0559aec3-1b92-4d69-e86d-ce36307c8ee1"
      },
      "outputs": [
        {
          "output_type": "stream",
          "name": "stderr",
          "text": [
            "/usr/local/lib/python3.10/dist-packages/ipykernel/ipkernel.py:283: DeprecationWarning: `should_run_async` will not call `transform_cell` automatically in the future. Please pass the result to `transformed_cell` argument and any exception that happen during thetransform in `preprocessing_exc_tuple` in IPython 7.17 and above.\n",
            "  and should_run_async(code)\n"
          ]
        }
      ],
      "source": [
        "import math\n",
        "import numpy as np\n",
        "import random\n",
        "from copy import deepcopy\n",
        "C = 1.0\n",
        "\n",
        "class Node:\n",
        "\n",
        "  def __init__(self, parent, action, game_state):\n",
        "    self.parent = parent\n",
        "    self.children = None\n",
        "    self.T = 0\n",
        "    self.N = 0\n",
        "    self.action = action\n",
        "    self.game_state = game_state\n",
        "    self.done = False\n",
        "\n",
        "  def __str__(self, level=0):\n",
        "    ret = \"   \"*level+repr(self)+\"\\n\"\n",
        "    if self.children:\n",
        "      for child in self.children:\n",
        "          ret += child.__str__(level+1)\n",
        "    return ret\n",
        "\n",
        "  def __repr__(self):\n",
        "    return f\"N: {self.N}, T: {self.T}, action: {self.action}\"\n",
        "\n",
        "  def UCB_score(self):\n",
        "    if self.N == 0:\n",
        "      return float('inf')\n",
        "\n",
        "    top_node = self\n",
        "    if top_node.parent:\n",
        "      top_node = top_node.parent\n",
        "\n",
        "    return (self.T/self.N * C * (math.sqrt(math.log(top_node.N)/self.N)))\n",
        "\n",
        "  def add_children(self):\n",
        "    self.children = []\n",
        "    for action in range(GAME_ACTIONS):\n",
        "      game_state = deepcopy(self.game_state)\n",
        "      _, _, done, _ = game_state.step(action)\n",
        "      child = Node(self, action, game_state)\n",
        "      self.children.append(child)\n",
        "\n",
        "  def explore(self):\n",
        "    node = self\n",
        "    while node.children:\n",
        "      ucb_score_list = [x.UCB_score() for x in node.children]\n",
        "      node_to_explore = node.children[np.argmax(ucb_score_list)]\n",
        "      node = node_to_explore\n",
        "    return node\n",
        "\n",
        "  def rollout(self):\n",
        "    if self.done:\n",
        "      return 0\n",
        "    tot_reward = 0\n",
        "    done = False\n",
        "    new_game = deepcopy(self.game_state)\n",
        "    while not done:\n",
        "        action = random.randint(0, GAME_ACTIONS-1)\n",
        "        observation, reward, done, _ = new_game.step(action)\n",
        "        tot_reward += reward\n",
        "        if done:\n",
        "            new_game.reset()\n",
        "            new_game.close()\n",
        "            break\n",
        "    return tot_reward\n",
        "\n",
        "  def backpropagate(self, reward):\n",
        "    node = self\n",
        "    while node.parent:\n",
        "      node.T += reward\n",
        "      node.N += 1\n",
        "      node = node.parent\n",
        "    node.T += reward\n",
        "    node.N += 1"
      ]
    },
    {
      "cell_type": "code",
      "source": [
        "import time\n",
        "\n",
        "def execute(root, step):\n",
        "  for i in range(step):\n",
        "    node = root.explore()\n",
        "    if node.N != 0:\n",
        "      node.add_children()\n",
        "      node = node.children[random.randint(0, len(node.children)-1)]\n",
        "    reward = node.rollout()\n",
        "    node.backpropagate(reward)\n",
        "  return root\n",
        "\n",
        "def find_action(node):\n",
        "  children = node.children\n",
        "  sort_by_n = sorted(children, key=lambda x: x.N, reverse=True)\n",
        "  max_n = [x for x in sort_by_n if x.N==sort_by_n[0].N]\n",
        "  sort_by_t = sorted(max_n, key=lambda x: x.T, reverse=True)\n",
        "\n",
        "  return sort_by_t[0], sort_by_t[0].action"
      ],
      "metadata": {
        "id": "G0-EmJ6l7BkK"
      },
      "execution_count": 27,
      "outputs": []
    },
    {
      "cell_type": "code",
      "source": [
        "import gym\n",
        "import matplotlib.pyplot as plt\n",
        "\n",
        "GAME_NAME = 'CartPole-v0'\n",
        "\n",
        "env = gym.make(GAME_NAME)\n",
        "GAME_ACTIONS = env.action_space.n\n",
        "GAME_OBS = env.observation_space.shape[0]\n",
        "\n",
        "print(f'In the {GAME_NAME} environment there are: {str(GAME_ACTIONS)} possible actions.')\n",
        "print('In the ' + GAME_NAME + ' environment the observation is composed of: ' + str(GAME_OBS) + ' values.')\n",
        "\n",
        "env.reset()\n",
        "env.close()"
      ],
      "metadata": {
        "colab": {
          "base_uri": "https://localhost:8080/"
        },
        "id": "kgHWfcojfnTq",
        "outputId": "586a304d-3d86-4400-ec4b-b489789f8a65"
      },
      "execution_count": 38,
      "outputs": [
        {
          "output_type": "stream",
          "name": "stdout",
          "text": [
            "In the CartPole-v0 environment there are: 2 possible actions.\n",
            "In the CartPole-v0 environment the observation is composed of: 4 values.\n"
          ]
        },
        {
          "output_type": "stream",
          "name": "stderr",
          "text": [
            "/usr/local/lib/python3.10/dist-packages/gym/envs/registration.py:593: UserWarning: \u001b[33mWARN: The environment CartPole-v0 is out of date. You should consider upgrading to version `v1`.\u001b[0m\n",
            "  logger.warn(\n"
          ]
        }
      ]
    },
    {
      "cell_type": "code",
      "source": [
        "episodes = 10\n",
        "rewards = []\n",
        "moving_average = []\n",
        "\n",
        "'''\n",
        "Here we are experimenting with our implementation:\n",
        "- we play a certain number of episodes of the game\n",
        "- for deciding each move to play at each step, we will apply our MCTS algorithm\n",
        "- we will collect and plot the rewards to check if the MCTS is actually working.\n",
        "- For CartPole-v0, in particular, 200 is the maximum possible reward.\n",
        "'''\n",
        "\n",
        "for e in range(episodes):\n",
        "\n",
        "    reward_e = 0\n",
        "    game = gym.make(GAME_NAME)\n",
        "    observation = game.reset()\n",
        "    done = False\n",
        "\n",
        "    new_game = deepcopy(game)\n",
        "    mytree = Node(None, 0, new_game)\n",
        "\n",
        "    print('\\n episode #' + str(e+1))\n",
        "\n",
        "    while not done:\n",
        "\n",
        "        print('.', end='')\n",
        "        mytree = execute(mytree, 100)\n",
        "        mytree, action = find_action(mytree)\n",
        "        del mytree.parent\n",
        "        mytree.parent = None\n",
        "\n",
        "        observation, reward, done, _ = game.step(action)\n",
        "\n",
        "        reward_e = reward_e + reward\n",
        "\n",
        "        if done:\n",
        "            print('\\n reward_e ' + str(reward_e))\n",
        "            game.close()\n",
        "            break\n",
        "\n",
        "    rewards.append(reward_e)\n",
        "\n",
        "plt.plot(rewards)\n",
        "plt.plot(moving_average)\n",
        "plt.show()\n",
        "print('moving average: ' + str(np.mean(rewards[-20:])))\n",
        "\n",
        "env.reset()\n",
        "env.close()"
      ],
      "metadata": {
        "id": "cWKP25QFb0Yo",
        "colab": {
          "base_uri": "https://localhost:8080/"
        },
        "outputId": "de0526de-e935-4d59-fe24-92c37ac7b675"
      },
      "execution_count": null,
      "outputs": [
        {
          "output_type": "stream",
          "name": "stdout",
          "text": [
            "\n",
            " episode #1\n",
            "........................................................................................................................................................................................................\n",
            " reward_e 200.0\n",
            "\n",
            " episode #2\n",
            "........................................................................................................................................................................................................\n",
            " reward_e 200.0\n",
            "\n",
            " episode #3\n",
            "........................................................................................................................................................................................................\n",
            " reward_e 200.0\n",
            "\n",
            " episode #4\n",
            "........................................................................................................................................................................................................\n",
            " reward_e 200.0\n",
            "\n",
            " episode #5\n",
            "........................................................................................................................................................................................................\n",
            " reward_e 200.0\n",
            "\n",
            " episode #6\n",
            "........................................................................................................................................................................................................\n",
            " reward_e 200.0\n",
            "\n",
            " episode #7\n",
            "........................................................................................................................................................................................................\n",
            " reward_e 200.0\n",
            "\n",
            " episode #8\n",
            "........................................................................................................................................................................................................\n",
            " reward_e 200.0\n",
            "\n",
            " episode #9\n",
            ".................................................................................."
          ]
        }
      ]
    }
  ]
}